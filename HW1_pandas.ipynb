{
 "cells": [
  {
   "cell_type": "code",
   "execution_count": 1,
   "metadata": {
    "collapsed": true
   },
   "outputs": [],
   "source": [
    "import pandas as pd\n",
    "import numpy as np\n",
    "import matplotlib.pyplot as plt"
   ]
  },
  {
   "cell_type": "code",
   "execution_count": 2,
   "metadata": {
    "collapsed": true
   },
   "outputs": [],
   "source": [
    "s = pd.Series([1,3,5,np.nan,6,8])"
   ]
  },
  {
   "cell_type": "code",
   "execution_count": 3,
   "metadata": {
    "collapsed": false
   },
   "outputs": [
    {
     "data": {
      "text/plain": [
       "0     1\n",
       "1     3\n",
       "2     5\n",
       "3   NaN\n",
       "4     6\n",
       "5     8\n",
       "dtype: float64"
      ]
     },
     "execution_count": 3,
     "metadata": {},
     "output_type": "execute_result"
    }
   ],
   "source": [
    "s"
   ]
  },
  {
   "cell_type": "code",
   "execution_count": 5,
   "metadata": {
    "collapsed": false
   },
   "outputs": [
    {
     "data": {
      "text/plain": [
       "0    1\n",
       "1    3\n",
       "2    5\n",
       "dtype: int64"
      ]
     },
     "execution_count": 5,
     "metadata": {},
     "output_type": "execute_result"
    }
   ],
   "source": [
    "s1 = pd.Series([1,3,5])\n",
    "s1"
   ]
  },
  {
   "cell_type": "code",
   "execution_count": 6,
   "metadata": {
    "collapsed": true
   },
   "outputs": [],
   "source": [
    "s2 = pd.Series([1.1,3,5])"
   ]
  },
  {
   "cell_type": "code",
   "execution_count": 7,
   "metadata": {
    "collapsed": false
   },
   "outputs": [
    {
     "data": {
      "text/plain": [
       "0    1.1\n",
       "1    3.0\n",
       "2    5.0\n",
       "dtype: float64"
      ]
     },
     "execution_count": 7,
     "metadata": {},
     "output_type": "execute_result"
    }
   ],
   "source": [
    "s2"
   ]
  },
  {
   "cell_type": "code",
   "execution_count": 9,
   "metadata": {
    "collapsed": false
   },
   "outputs": [
    {
     "data": {
      "text/plain": [
       "DatetimeIndex(['2015-09-15', '2015-09-16', '2015-09-17', '2015-09-18',\n",
       "               '2015-09-19', '2015-09-20'],\n",
       "              dtype='datetime64[ns]', freq='D', tz=None)"
      ]
     },
     "execution_count": 9,
     "metadata": {},
     "output_type": "execute_result"
    }
   ],
   "source": [
    "dates = pd.date_range('20150915', periods=6)\n",
    "dates"
   ]
  },
  {
   "cell_type": "code",
   "execution_count": 10,
   "metadata": {
    "collapsed": false
   },
   "outputs": [
    {
     "data": {
      "text/html": [
       "<div>\n",
       "<table border=\"1\" class=\"dataframe\">\n",
       "  <thead>\n",
       "    <tr style=\"text-align: right;\">\n",
       "      <th></th>\n",
       "      <th>A</th>\n",
       "      <th>B</th>\n",
       "      <th>C</th>\n",
       "      <th>D</th>\n",
       "    </tr>\n",
       "  </thead>\n",
       "  <tbody>\n",
       "    <tr>\n",
       "      <th>2015-09-15</th>\n",
       "      <td>-0.810983</td>\n",
       "      <td>0.551647</td>\n",
       "      <td>-0.257801</td>\n",
       "      <td>-0.261778</td>\n",
       "    </tr>\n",
       "    <tr>\n",
       "      <th>2015-09-16</th>\n",
       "      <td>0.242636</td>\n",
       "      <td>-0.052258</td>\n",
       "      <td>-0.166830</td>\n",
       "      <td>-2.641640</td>\n",
       "    </tr>\n",
       "    <tr>\n",
       "      <th>2015-09-17</th>\n",
       "      <td>1.545043</td>\n",
       "      <td>-0.334921</td>\n",
       "      <td>-0.117245</td>\n",
       "      <td>1.402816</td>\n",
       "    </tr>\n",
       "    <tr>\n",
       "      <th>2015-09-18</th>\n",
       "      <td>0.242964</td>\n",
       "      <td>-0.341144</td>\n",
       "      <td>-0.806991</td>\n",
       "      <td>-1.919158</td>\n",
       "    </tr>\n",
       "    <tr>\n",
       "      <th>2015-09-19</th>\n",
       "      <td>0.227452</td>\n",
       "      <td>-1.589743</td>\n",
       "      <td>-0.386720</td>\n",
       "      <td>0.173645</td>\n",
       "    </tr>\n",
       "    <tr>\n",
       "      <th>2015-09-20</th>\n",
       "      <td>-0.411804</td>\n",
       "      <td>0.688935</td>\n",
       "      <td>0.555261</td>\n",
       "      <td>-0.889051</td>\n",
       "    </tr>\n",
       "  </tbody>\n",
       "</table>\n",
       "</div>"
      ],
      "text/plain": [
       "                   A         B         C         D\n",
       "2015-09-15 -0.810983  0.551647 -0.257801 -0.261778\n",
       "2015-09-16  0.242636 -0.052258 -0.166830 -2.641640\n",
       "2015-09-17  1.545043 -0.334921 -0.117245  1.402816\n",
       "2015-09-18  0.242964 -0.341144 -0.806991 -1.919158\n",
       "2015-09-19  0.227452 -1.589743 -0.386720  0.173645\n",
       "2015-09-20 -0.411804  0.688935  0.555261 -0.889051"
      ]
     },
     "execution_count": 10,
     "metadata": {},
     "output_type": "execute_result"
    }
   ],
   "source": [
    "df = pd.DataFrame(np.random.randn(6,4), index=dates, columns=list('ABCD'))\n",
    "df"
   ]
  },
  {
   "cell_type": "code",
   "execution_count": 12,
   "metadata": {
    "collapsed": false
   },
   "outputs": [
    {
     "data": {
      "text/html": [
       "<div>\n",
       "<table border=\"1\" class=\"dataframe\">\n",
       "  <thead>\n",
       "    <tr style=\"text-align: right;\">\n",
       "      <th></th>\n",
       "      <th>2015-09-15 00:00:00</th>\n",
       "      <th>2015-09-16 00:00:00</th>\n",
       "      <th>2015-09-17 00:00:00</th>\n",
       "      <th>2015-09-18 00:00:00</th>\n",
       "      <th>2015-09-19 00:00:00</th>\n",
       "      <th>2015-09-20 00:00:00</th>\n",
       "    </tr>\n",
       "  </thead>\n",
       "  <tbody>\n",
       "    <tr>\n",
       "      <th>A</th>\n",
       "      <td>-0.238749</td>\n",
       "      <td>-0.368630</td>\n",
       "      <td>1.500117</td>\n",
       "      <td>0.704586</td>\n",
       "      <td>-1.207108</td>\n",
       "      <td>-0.510448</td>\n",
       "    </tr>\n",
       "    <tr>\n",
       "      <th>B</th>\n",
       "      <td>-1.008645</td>\n",
       "      <td>-1.533395</td>\n",
       "      <td>0.194862</td>\n",
       "      <td>-0.041722</td>\n",
       "      <td>1.758212</td>\n",
       "      <td>0.903072</td>\n",
       "    </tr>\n",
       "    <tr>\n",
       "      <th>C</th>\n",
       "      <td>0.579109</td>\n",
       "      <td>0.561487</td>\n",
       "      <td>1.352029</td>\n",
       "      <td>-0.165049</td>\n",
       "      <td>0.449625</td>\n",
       "      <td>-1.299286</td>\n",
       "    </tr>\n",
       "    <tr>\n",
       "      <th>D</th>\n",
       "      <td>-0.521283</td>\n",
       "      <td>0.561583</td>\n",
       "      <td>-1.874726</td>\n",
       "      <td>0.778346</td>\n",
       "      <td>-0.838208</td>\n",
       "      <td>0.240571</td>\n",
       "    </tr>\n",
       "  </tbody>\n",
       "</table>\n",
       "</div>"
      ],
      "text/plain": [
       "   2015-09-15  2015-09-16  2015-09-17  2015-09-18  2015-09-19  2015-09-20\n",
       "A   -0.238749   -0.368630    1.500117    0.704586   -1.207108   -0.510448\n",
       "B   -1.008645   -1.533395    0.194862   -0.041722    1.758212    0.903072\n",
       "C    0.579109    0.561487    1.352029   -0.165049    0.449625   -1.299286\n",
       "D   -0.521283    0.561583   -1.874726    0.778346   -0.838208    0.240571"
      ]
     },
     "execution_count": 12,
     "metadata": {},
     "output_type": "execute_result"
    }
   ],
   "source": [
    "df1 = pd.DataFrame(np.random.randn(4,6), index=list('ABCD'), columns=dates)\n",
    "df1"
   ]
  },
  {
   "cell_type": "code",
   "execution_count": 14,
   "metadata": {
    "collapsed": false
   },
   "outputs": [],
   "source": [
    "df2 = pd.DataFrame({ 'A' : 1.,\n",
    "                     'B' : pd.Timestamp('20150915'),\n",
    "                     'C' : pd.Series(1, index=list(range(4)),dtype='float32'),\n",
    "                     'D' : np.array([3] * 4, dtype='int32'),\n",
    "                     'E' : pd.Categorical([\"test\", \"train\", \"test\", \"train\"]),\n",
    "                     'F' : 'foo' })"
   ]
  },
  {
   "cell_type": "code",
   "execution_count": 15,
   "metadata": {
    "collapsed": false
   },
   "outputs": [
    {
     "data": {
      "text/html": [
       "<div>\n",
       "<table border=\"1\" class=\"dataframe\">\n",
       "  <thead>\n",
       "    <tr style=\"text-align: right;\">\n",
       "      <th></th>\n",
       "      <th>A</th>\n",
       "      <th>B</th>\n",
       "      <th>C</th>\n",
       "      <th>D</th>\n",
       "      <th>E</th>\n",
       "      <th>F</th>\n",
       "    </tr>\n",
       "  </thead>\n",
       "  <tbody>\n",
       "    <tr>\n",
       "      <th>0</th>\n",
       "      <td>1</td>\n",
       "      <td>2015-09-15</td>\n",
       "      <td>1</td>\n",
       "      <td>3</td>\n",
       "      <td>test</td>\n",
       "      <td>foo</td>\n",
       "    </tr>\n",
       "    <tr>\n",
       "      <th>1</th>\n",
       "      <td>1</td>\n",
       "      <td>2015-09-15</td>\n",
       "      <td>1</td>\n",
       "      <td>3</td>\n",
       "      <td>train</td>\n",
       "      <td>foo</td>\n",
       "    </tr>\n",
       "    <tr>\n",
       "      <th>2</th>\n",
       "      <td>1</td>\n",
       "      <td>2015-09-15</td>\n",
       "      <td>1</td>\n",
       "      <td>3</td>\n",
       "      <td>test</td>\n",
       "      <td>foo</td>\n",
       "    </tr>\n",
       "    <tr>\n",
       "      <th>3</th>\n",
       "      <td>1</td>\n",
       "      <td>2015-09-15</td>\n",
       "      <td>1</td>\n",
       "      <td>3</td>\n",
       "      <td>train</td>\n",
       "      <td>foo</td>\n",
       "    </tr>\n",
       "  </tbody>\n",
       "</table>\n",
       "</div>"
      ],
      "text/plain": [
       "   A          B  C  D      E    F\n",
       "0  1 2015-09-15  1  3   test  foo\n",
       "1  1 2015-09-15  1  3  train  foo\n",
       "2  1 2015-09-15  1  3   test  foo\n",
       "3  1 2015-09-15  1  3  train  foo"
      ]
     },
     "execution_count": 15,
     "metadata": {},
     "output_type": "execute_result"
    }
   ],
   "source": [
    "df2"
   ]
  },
  {
   "cell_type": "code",
   "execution_count": 19,
   "metadata": {
    "collapsed": false
   },
   "outputs": [],
   "source": [
    "df3 = pd.DataFrame({ 'A' : list([1,2,3,4]),\n",
    "                     'B' : pd.Timestamp('20150915'),\n",
    "                     'C' : pd.Series(1, index=list(range(4)),dtype='float32'),\n",
    "                     'D' : np.array([3] * 4, dtype='int32'),\n",
    "                     'E' : pd.Categorical([\"test\", \"train\", \"test\", \"train\"]),\n",
    "                     'F' : 'foo' })"
   ]
  },
  {
   "cell_type": "code",
   "execution_count": 20,
   "metadata": {
    "collapsed": false
   },
   "outputs": [
    {
     "data": {
      "text/html": [
       "<div>\n",
       "<table border=\"1\" class=\"dataframe\">\n",
       "  <thead>\n",
       "    <tr style=\"text-align: right;\">\n",
       "      <th></th>\n",
       "      <th>A</th>\n",
       "      <th>B</th>\n",
       "      <th>C</th>\n",
       "      <th>D</th>\n",
       "      <th>E</th>\n",
       "      <th>F</th>\n",
       "    </tr>\n",
       "  </thead>\n",
       "  <tbody>\n",
       "    <tr>\n",
       "      <th>0</th>\n",
       "      <td>1</td>\n",
       "      <td>2015-09-15</td>\n",
       "      <td>1</td>\n",
       "      <td>3</td>\n",
       "      <td>test</td>\n",
       "      <td>foo</td>\n",
       "    </tr>\n",
       "    <tr>\n",
       "      <th>1</th>\n",
       "      <td>2</td>\n",
       "      <td>2015-09-15</td>\n",
       "      <td>1</td>\n",
       "      <td>3</td>\n",
       "      <td>train</td>\n",
       "      <td>foo</td>\n",
       "    </tr>\n",
       "    <tr>\n",
       "      <th>2</th>\n",
       "      <td>3</td>\n",
       "      <td>2015-09-15</td>\n",
       "      <td>1</td>\n",
       "      <td>3</td>\n",
       "      <td>test</td>\n",
       "      <td>foo</td>\n",
       "    </tr>\n",
       "    <tr>\n",
       "      <th>3</th>\n",
       "      <td>4</td>\n",
       "      <td>2015-09-15</td>\n",
       "      <td>1</td>\n",
       "      <td>3</td>\n",
       "      <td>train</td>\n",
       "      <td>foo</td>\n",
       "    </tr>\n",
       "  </tbody>\n",
       "</table>\n",
       "</div>"
      ],
      "text/plain": [
       "   A          B  C  D      E    F\n",
       "0  1 2015-09-15  1  3   test  foo\n",
       "1  2 2015-09-15  1  3  train  foo\n",
       "2  3 2015-09-15  1  3   test  foo\n",
       "3  4 2015-09-15  1  3  train  foo"
      ]
     },
     "execution_count": 20,
     "metadata": {},
     "output_type": "execute_result"
    }
   ],
   "source": [
    "df3"
   ]
  },
  {
   "cell_type": "code",
   "execution_count": 23,
   "metadata": {
    "collapsed": false
   },
   "outputs": [],
   "source": [
    "df3 = pd.DataFrame({ 'A' : list([1,2,3,4]),\n",
    "                     'B' : pd.date_range('20150915', periods=4),\n",
    "                     'C' : pd.Series(1, index=list(range(4)),dtype='float32'),\n",
    "                     'D' : np.array([3] * 4, dtype='int32'),\n",
    "                     'E' : pd.Categorical([\"test\", \"train\", \"test\", \"train\"]),\n",
    "                     'F' : 'foo' })"
   ]
  },
  {
   "cell_type": "code",
   "execution_count": 24,
   "metadata": {
    "collapsed": false
   },
   "outputs": [
    {
     "data": {
      "text/html": [
       "<div>\n",
       "<table border=\"1\" class=\"dataframe\">\n",
       "  <thead>\n",
       "    <tr style=\"text-align: right;\">\n",
       "      <th></th>\n",
       "      <th>A</th>\n",
       "      <th>B</th>\n",
       "      <th>C</th>\n",
       "      <th>D</th>\n",
       "      <th>E</th>\n",
       "      <th>F</th>\n",
       "    </tr>\n",
       "  </thead>\n",
       "  <tbody>\n",
       "    <tr>\n",
       "      <th>0</th>\n",
       "      <td>1</td>\n",
       "      <td>2015-09-15</td>\n",
       "      <td>1</td>\n",
       "      <td>3</td>\n",
       "      <td>test</td>\n",
       "      <td>foo</td>\n",
       "    </tr>\n",
       "    <tr>\n",
       "      <th>1</th>\n",
       "      <td>2</td>\n",
       "      <td>2015-09-16</td>\n",
       "      <td>1</td>\n",
       "      <td>3</td>\n",
       "      <td>train</td>\n",
       "      <td>foo</td>\n",
       "    </tr>\n",
       "    <tr>\n",
       "      <th>2</th>\n",
       "      <td>3</td>\n",
       "      <td>2015-09-17</td>\n",
       "      <td>1</td>\n",
       "      <td>3</td>\n",
       "      <td>test</td>\n",
       "      <td>foo</td>\n",
       "    </tr>\n",
       "    <tr>\n",
       "      <th>3</th>\n",
       "      <td>4</td>\n",
       "      <td>2015-09-18</td>\n",
       "      <td>1</td>\n",
       "      <td>3</td>\n",
       "      <td>train</td>\n",
       "      <td>foo</td>\n",
       "    </tr>\n",
       "  </tbody>\n",
       "</table>\n",
       "</div>"
      ],
      "text/plain": [
       "   A          B  C  D      E    F\n",
       "0  1 2015-09-15  1  3   test  foo\n",
       "1  2 2015-09-16  1  3  train  foo\n",
       "2  3 2015-09-17  1  3   test  foo\n",
       "3  4 2015-09-18  1  3  train  foo"
      ]
     },
     "execution_count": 24,
     "metadata": {},
     "output_type": "execute_result"
    }
   ],
   "source": [
    "df3"
   ]
  },
  {
   "cell_type": "code",
   "execution_count": 34,
   "metadata": {
    "collapsed": false
   },
   "outputs": [
    {
     "data": {
      "text/plain": [
       "A           float64\n",
       "B    datetime64[ns]\n",
       "C           float32\n",
       "D             int32\n",
       "E          category\n",
       "F            object\n",
       "dtype: object"
      ]
     },
     "execution_count": 34,
     "metadata": {},
     "output_type": "execute_result"
    }
   ],
   "source": [
    "df2.dtypes"
   ]
  },
  {
   "cell_type": "code",
   "execution_count": 35,
   "metadata": {
    "collapsed": false
   },
   "outputs": [
    {
     "ename": "SyntaxError",
     "evalue": "invalid syntax (<ipython-input-35-e8d0e54abc86>, line 1)",
     "output_type": "error",
     "traceback": [
      "\u001b[1;36m  File \u001b[1;32m\"<ipython-input-35-e8d0e54abc86>\"\u001b[1;36m, line \u001b[1;32m1\u001b[0m\n\u001b[1;33m    df2.<TAB>\u001b[0m\n\u001b[1;37m        ^\u001b[0m\n\u001b[1;31mSyntaxError\u001b[0m\u001b[1;31m:\u001b[0m invalid syntax\n"
     ]
    }
   ],
   "source": [
    "df2.<TAB>"
   ]
  },
  {
   "cell_type": "code",
   "execution_count": 36,
   "metadata": {
    "collapsed": false
   },
   "outputs": [
    {
     "data": {
      "text/html": [
       "<div>\n",
       "<table border=\"1\" class=\"dataframe\">\n",
       "  <thead>\n",
       "    <tr style=\"text-align: right;\">\n",
       "      <th></th>\n",
       "      <th>A</th>\n",
       "      <th>B</th>\n",
       "      <th>C</th>\n",
       "      <th>D</th>\n",
       "    </tr>\n",
       "  </thead>\n",
       "  <tbody>\n",
       "    <tr>\n",
       "      <th>2015-09-15</th>\n",
       "      <td>-0.810983</td>\n",
       "      <td>0.551647</td>\n",
       "      <td>-0.257801</td>\n",
       "      <td>-0.261778</td>\n",
       "    </tr>\n",
       "    <tr>\n",
       "      <th>2015-09-16</th>\n",
       "      <td>0.242636</td>\n",
       "      <td>-0.052258</td>\n",
       "      <td>-0.166830</td>\n",
       "      <td>-2.641640</td>\n",
       "    </tr>\n",
       "    <tr>\n",
       "      <th>2015-09-17</th>\n",
       "      <td>1.545043</td>\n",
       "      <td>-0.334921</td>\n",
       "      <td>-0.117245</td>\n",
       "      <td>1.402816</td>\n",
       "    </tr>\n",
       "    <tr>\n",
       "      <th>2015-09-18</th>\n",
       "      <td>0.242964</td>\n",
       "      <td>-0.341144</td>\n",
       "      <td>-0.806991</td>\n",
       "      <td>-1.919158</td>\n",
       "    </tr>\n",
       "    <tr>\n",
       "      <th>2015-09-19</th>\n",
       "      <td>0.227452</td>\n",
       "      <td>-1.589743</td>\n",
       "      <td>-0.386720</td>\n",
       "      <td>0.173645</td>\n",
       "    </tr>\n",
       "  </tbody>\n",
       "</table>\n",
       "</div>"
      ],
      "text/plain": [
       "                   A         B         C         D\n",
       "2015-09-15 -0.810983  0.551647 -0.257801 -0.261778\n",
       "2015-09-16  0.242636 -0.052258 -0.166830 -2.641640\n",
       "2015-09-17  1.545043 -0.334921 -0.117245  1.402816\n",
       "2015-09-18  0.242964 -0.341144 -0.806991 -1.919158\n",
       "2015-09-19  0.227452 -1.589743 -0.386720  0.173645"
      ]
     },
     "execution_count": 36,
     "metadata": {},
     "output_type": "execute_result"
    }
   ],
   "source": [
    "df.head()"
   ]
  },
  {
   "cell_type": "code",
   "execution_count": 37,
   "metadata": {
    "collapsed": false
   },
   "outputs": [
    {
     "data": {
      "text/html": [
       "<div>\n",
       "<table border=\"1\" class=\"dataframe\">\n",
       "  <thead>\n",
       "    <tr style=\"text-align: right;\">\n",
       "      <th></th>\n",
       "      <th>A</th>\n",
       "      <th>B</th>\n",
       "      <th>C</th>\n",
       "      <th>D</th>\n",
       "    </tr>\n",
       "  </thead>\n",
       "  <tbody>\n",
       "    <tr>\n",
       "      <th>2015-09-18</th>\n",
       "      <td>0.242964</td>\n",
       "      <td>-0.341144</td>\n",
       "      <td>-0.806991</td>\n",
       "      <td>-1.919158</td>\n",
       "    </tr>\n",
       "    <tr>\n",
       "      <th>2015-09-19</th>\n",
       "      <td>0.227452</td>\n",
       "      <td>-1.589743</td>\n",
       "      <td>-0.386720</td>\n",
       "      <td>0.173645</td>\n",
       "    </tr>\n",
       "    <tr>\n",
       "      <th>2015-09-20</th>\n",
       "      <td>-0.411804</td>\n",
       "      <td>0.688935</td>\n",
       "      <td>0.555261</td>\n",
       "      <td>-0.889051</td>\n",
       "    </tr>\n",
       "  </tbody>\n",
       "</table>\n",
       "</div>"
      ],
      "text/plain": [
       "                   A         B         C         D\n",
       "2015-09-18  0.242964 -0.341144 -0.806991 -1.919158\n",
       "2015-09-19  0.227452 -1.589743 -0.386720  0.173645\n",
       "2015-09-20 -0.411804  0.688935  0.555261 -0.889051"
      ]
     },
     "execution_count": 37,
     "metadata": {},
     "output_type": "execute_result"
    }
   ],
   "source": [
    "df.tail(3)"
   ]
  },
  {
   "cell_type": "code",
   "execution_count": 38,
   "metadata": {
    "collapsed": false
   },
   "outputs": [
    {
     "data": {
      "text/html": [
       "<div>\n",
       "<table border=\"1\" class=\"dataframe\">\n",
       "  <thead>\n",
       "    <tr style=\"text-align: right;\">\n",
       "      <th></th>\n",
       "      <th>A</th>\n",
       "      <th>B</th>\n",
       "      <th>C</th>\n",
       "      <th>D</th>\n",
       "    </tr>\n",
       "  </thead>\n",
       "  <tbody>\n",
       "    <tr>\n",
       "      <th>2015-09-19</th>\n",
       "      <td>0.227452</td>\n",
       "      <td>-1.589743</td>\n",
       "      <td>-0.386720</td>\n",
       "      <td>0.173645</td>\n",
       "    </tr>\n",
       "    <tr>\n",
       "      <th>2015-09-20</th>\n",
       "      <td>-0.411804</td>\n",
       "      <td>0.688935</td>\n",
       "      <td>0.555261</td>\n",
       "      <td>-0.889051</td>\n",
       "    </tr>\n",
       "  </tbody>\n",
       "</table>\n",
       "</div>"
      ],
      "text/plain": [
       "                   A         B         C         D\n",
       "2015-09-19  0.227452 -1.589743 -0.386720  0.173645\n",
       "2015-09-20 -0.411804  0.688935  0.555261 -0.889051"
      ]
     },
     "execution_count": 38,
     "metadata": {},
     "output_type": "execute_result"
    }
   ],
   "source": [
    "df.tail(2)"
   ]
  },
  {
   "cell_type": "code",
   "execution_count": 39,
   "metadata": {
    "collapsed": false
   },
   "outputs": [
    {
     "data": {
      "text/html": [
       "<div>\n",
       "<table border=\"1\" class=\"dataframe\">\n",
       "  <thead>\n",
       "    <tr style=\"text-align: right;\">\n",
       "      <th></th>\n",
       "      <th>A</th>\n",
       "      <th>B</th>\n",
       "      <th>C</th>\n",
       "      <th>D</th>\n",
       "    </tr>\n",
       "  </thead>\n",
       "  <tbody>\n",
       "    <tr>\n",
       "      <th>2015-09-15</th>\n",
       "      <td>-0.810983</td>\n",
       "      <td>0.551647</td>\n",
       "      <td>-0.257801</td>\n",
       "      <td>-0.261778</td>\n",
       "    </tr>\n",
       "    <tr>\n",
       "      <th>2015-09-16</th>\n",
       "      <td>0.242636</td>\n",
       "      <td>-0.052258</td>\n",
       "      <td>-0.166830</td>\n",
       "      <td>-2.641640</td>\n",
       "    </tr>\n",
       "    <tr>\n",
       "      <th>2015-09-17</th>\n",
       "      <td>1.545043</td>\n",
       "      <td>-0.334921</td>\n",
       "      <td>-0.117245</td>\n",
       "      <td>1.402816</td>\n",
       "    </tr>\n",
       "  </tbody>\n",
       "</table>\n",
       "</div>"
      ],
      "text/plain": [
       "                   A         B         C         D\n",
       "2015-09-15 -0.810983  0.551647 -0.257801 -0.261778\n",
       "2015-09-16  0.242636 -0.052258 -0.166830 -2.641640\n",
       "2015-09-17  1.545043 -0.334921 -0.117245  1.402816"
      ]
     },
     "execution_count": 39,
     "metadata": {},
     "output_type": "execute_result"
    }
   ],
   "source": [
    "df.head(3)"
   ]
  },
  {
   "cell_type": "code",
   "execution_count": 40,
   "metadata": {
    "collapsed": false
   },
   "outputs": [
    {
     "data": {
      "text/html": [
       "<div>\n",
       "<table border=\"1\" class=\"dataframe\">\n",
       "  <thead>\n",
       "    <tr style=\"text-align: right;\">\n",
       "      <th></th>\n",
       "      <th>A</th>\n",
       "      <th>B</th>\n",
       "      <th>C</th>\n",
       "      <th>D</th>\n",
       "    </tr>\n",
       "  </thead>\n",
       "  <tbody>\n",
       "    <tr>\n",
       "      <th>2015-09-15</th>\n",
       "      <td>-0.810983</td>\n",
       "      <td>0.551647</td>\n",
       "      <td>-0.257801</td>\n",
       "      <td>-0.261778</td>\n",
       "    </tr>\n",
       "    <tr>\n",
       "      <th>2015-09-16</th>\n",
       "      <td>0.242636</td>\n",
       "      <td>-0.052258</td>\n",
       "      <td>-0.166830</td>\n",
       "      <td>-2.641640</td>\n",
       "    </tr>\n",
       "    <tr>\n",
       "      <th>2015-09-17</th>\n",
       "      <td>1.545043</td>\n",
       "      <td>-0.334921</td>\n",
       "      <td>-0.117245</td>\n",
       "      <td>1.402816</td>\n",
       "    </tr>\n",
       "    <tr>\n",
       "      <th>2015-09-18</th>\n",
       "      <td>0.242964</td>\n",
       "      <td>-0.341144</td>\n",
       "      <td>-0.806991</td>\n",
       "      <td>-1.919158</td>\n",
       "    </tr>\n",
       "    <tr>\n",
       "      <th>2015-09-19</th>\n",
       "      <td>0.227452</td>\n",
       "      <td>-1.589743</td>\n",
       "      <td>-0.386720</td>\n",
       "      <td>0.173645</td>\n",
       "    </tr>\n",
       "    <tr>\n",
       "      <th>2015-09-20</th>\n",
       "      <td>-0.411804</td>\n",
       "      <td>0.688935</td>\n",
       "      <td>0.555261</td>\n",
       "      <td>-0.889051</td>\n",
       "    </tr>\n",
       "  </tbody>\n",
       "</table>\n",
       "</div>"
      ],
      "text/plain": [
       "                   A         B         C         D\n",
       "2015-09-15 -0.810983  0.551647 -0.257801 -0.261778\n",
       "2015-09-16  0.242636 -0.052258 -0.166830 -2.641640\n",
       "2015-09-17  1.545043 -0.334921 -0.117245  1.402816\n",
       "2015-09-18  0.242964 -0.341144 -0.806991 -1.919158\n",
       "2015-09-19  0.227452 -1.589743 -0.386720  0.173645\n",
       "2015-09-20 -0.411804  0.688935  0.555261 -0.889051"
      ]
     },
     "execution_count": 40,
     "metadata": {},
     "output_type": "execute_result"
    }
   ],
   "source": [
    "df.head(7)"
   ]
  },
  {
   "cell_type": "code",
   "execution_count": 42,
   "metadata": {
    "collapsed": false
   },
   "outputs": [
    {
     "data": {
      "text/html": [
       "<div>\n",
       "<table border=\"1\" class=\"dataframe\">\n",
       "  <thead>\n",
       "    <tr style=\"text-align: right;\">\n",
       "      <th></th>\n",
       "      <th>A</th>\n",
       "      <th>B</th>\n",
       "      <th>C</th>\n",
       "      <th>D</th>\n",
       "    </tr>\n",
       "  </thead>\n",
       "  <tbody>\n",
       "    <tr>\n",
       "      <th>2015-09-16</th>\n",
       "      <td>0.242636</td>\n",
       "      <td>-0.052258</td>\n",
       "      <td>-0.166830</td>\n",
       "      <td>-2.641640</td>\n",
       "    </tr>\n",
       "    <tr>\n",
       "      <th>2015-09-17</th>\n",
       "      <td>1.545043</td>\n",
       "      <td>-0.334921</td>\n",
       "      <td>-0.117245</td>\n",
       "      <td>1.402816</td>\n",
       "    </tr>\n",
       "    <tr>\n",
       "      <th>2015-09-18</th>\n",
       "      <td>0.242964</td>\n",
       "      <td>-0.341144</td>\n",
       "      <td>-0.806991</td>\n",
       "      <td>-1.919158</td>\n",
       "    </tr>\n",
       "    <tr>\n",
       "      <th>2015-09-19</th>\n",
       "      <td>0.227452</td>\n",
       "      <td>-1.589743</td>\n",
       "      <td>-0.386720</td>\n",
       "      <td>0.173645</td>\n",
       "    </tr>\n",
       "    <tr>\n",
       "      <th>2015-09-20</th>\n",
       "      <td>-0.411804</td>\n",
       "      <td>0.688935</td>\n",
       "      <td>0.555261</td>\n",
       "      <td>-0.889051</td>\n",
       "    </tr>\n",
       "  </tbody>\n",
       "</table>\n",
       "</div>"
      ],
      "text/plain": [
       "                   A         B         C         D\n",
       "2015-09-16  0.242636 -0.052258 -0.166830 -2.641640\n",
       "2015-09-17  1.545043 -0.334921 -0.117245  1.402816\n",
       "2015-09-18  0.242964 -0.341144 -0.806991 -1.919158\n",
       "2015-09-19  0.227452 -1.589743 -0.386720  0.173645\n",
       "2015-09-20 -0.411804  0.688935  0.555261 -0.889051"
      ]
     },
     "execution_count": 42,
     "metadata": {},
     "output_type": "execute_result"
    }
   ],
   "source": [
    "df.tail()"
   ]
  },
  {
   "cell_type": "code",
   "execution_count": 43,
   "metadata": {
    "collapsed": false
   },
   "outputs": [
    {
     "data": {
      "text/plain": [
       "DatetimeIndex(['2015-09-15', '2015-09-16', '2015-09-17', '2015-09-18',\n",
       "               '2015-09-19', '2015-09-20'],\n",
       "              dtype='datetime64[ns]', freq='D', tz=None)"
      ]
     },
     "execution_count": 43,
     "metadata": {},
     "output_type": "execute_result"
    }
   ],
   "source": [
    "df.index"
   ]
  },
  {
   "cell_type": "code",
   "execution_count": 44,
   "metadata": {
    "collapsed": false
   },
   "outputs": [
    {
     "data": {
      "text/plain": [
       "Index([u'A', u'B', u'C', u'D'], dtype='object')"
      ]
     },
     "execution_count": 44,
     "metadata": {},
     "output_type": "execute_result"
    }
   ],
   "source": [
    "df.columns"
   ]
  },
  {
   "cell_type": "code",
   "execution_count": 45,
   "metadata": {
    "collapsed": false
   },
   "outputs": [
    {
     "data": {
      "text/plain": [
       "array([[-0.81098279,  0.5516474 , -0.2578009 , -0.26177762],\n",
       "       [ 0.24263588, -0.05225848, -0.16682954, -2.64164016],\n",
       "       [ 1.54504344, -0.33492141, -0.11724501,  1.40281613],\n",
       "       [ 0.24296381, -0.34114393, -0.80699103, -1.91915755],\n",
       "       [ 0.22745192, -1.58974276, -0.38672045,  0.17364515],\n",
       "       [-0.41180371,  0.68893548,  0.55526056, -0.88905115]])"
      ]
     },
     "execution_count": 45,
     "metadata": {},
     "output_type": "execute_result"
    }
   ],
   "source": [
    "df.values"
   ]
  },
  {
   "cell_type": "code",
   "execution_count": 46,
   "metadata": {
    "collapsed": false
   },
   "outputs": [
    {
     "data": {
      "text/html": [
       "<div>\n",
       "<table border=\"1\" class=\"dataframe\">\n",
       "  <thead>\n",
       "    <tr style=\"text-align: right;\">\n",
       "      <th></th>\n",
       "      <th>A</th>\n",
       "      <th>B</th>\n",
       "      <th>C</th>\n",
       "      <th>D</th>\n",
       "    </tr>\n",
       "  </thead>\n",
       "  <tbody>\n",
       "    <tr>\n",
       "      <th>count</th>\n",
       "      <td>6.000000</td>\n",
       "      <td>6.000000</td>\n",
       "      <td>6.000000</td>\n",
       "      <td>6.000000</td>\n",
       "    </tr>\n",
       "    <tr>\n",
       "      <th>mean</th>\n",
       "      <td>0.172551</td>\n",
       "      <td>-0.179581</td>\n",
       "      <td>-0.196721</td>\n",
       "      <td>-0.689194</td>\n",
       "    </tr>\n",
       "    <tr>\n",
       "      <th>std</th>\n",
       "      <td>0.800678</td>\n",
       "      <td>0.817804</td>\n",
       "      <td>0.443835</td>\n",
       "      <td>1.460718</td>\n",
       "    </tr>\n",
       "    <tr>\n",
       "      <th>min</th>\n",
       "      <td>-0.810983</td>\n",
       "      <td>-1.589743</td>\n",
       "      <td>-0.806991</td>\n",
       "      <td>-2.641640</td>\n",
       "    </tr>\n",
       "    <tr>\n",
       "      <th>25%</th>\n",
       "      <td>-0.251990</td>\n",
       "      <td>-0.339588</td>\n",
       "      <td>-0.354491</td>\n",
       "      <td>-1.661631</td>\n",
       "    </tr>\n",
       "    <tr>\n",
       "      <th>50%</th>\n",
       "      <td>0.235044</td>\n",
       "      <td>-0.193590</td>\n",
       "      <td>-0.212315</td>\n",
       "      <td>-0.575414</td>\n",
       "    </tr>\n",
       "    <tr>\n",
       "      <th>75%</th>\n",
       "      <td>0.242882</td>\n",
       "      <td>0.400671</td>\n",
       "      <td>-0.129641</td>\n",
       "      <td>0.064789</td>\n",
       "    </tr>\n",
       "    <tr>\n",
       "      <th>max</th>\n",
       "      <td>1.545043</td>\n",
       "      <td>0.688935</td>\n",
       "      <td>0.555261</td>\n",
       "      <td>1.402816</td>\n",
       "    </tr>\n",
       "  </tbody>\n",
       "</table>\n",
       "</div>"
      ],
      "text/plain": [
       "              A         B         C         D\n",
       "count  6.000000  6.000000  6.000000  6.000000\n",
       "mean   0.172551 -0.179581 -0.196721 -0.689194\n",
       "std    0.800678  0.817804  0.443835  1.460718\n",
       "min   -0.810983 -1.589743 -0.806991 -2.641640\n",
       "25%   -0.251990 -0.339588 -0.354491 -1.661631\n",
       "50%    0.235044 -0.193590 -0.212315 -0.575414\n",
       "75%    0.242882  0.400671 -0.129641  0.064789\n",
       "max    1.545043  0.688935  0.555261  1.402816"
      ]
     },
     "execution_count": 46,
     "metadata": {},
     "output_type": "execute_result"
    }
   ],
   "source": [
    "df.describe()"
   ]
  },
  {
   "cell_type": "code",
   "execution_count": 47,
   "metadata": {
    "collapsed": false
   },
   "outputs": [
    {
     "data": {
      "text/html": [
       "<div>\n",
       "<table border=\"1\" class=\"dataframe\">\n",
       "  <thead>\n",
       "    <tr style=\"text-align: right;\">\n",
       "      <th></th>\n",
       "      <th>A</th>\n",
       "      <th>C</th>\n",
       "      <th>D</th>\n",
       "    </tr>\n",
       "  </thead>\n",
       "  <tbody>\n",
       "    <tr>\n",
       "      <th>count</th>\n",
       "      <td>4</td>\n",
       "      <td>4</td>\n",
       "      <td>4</td>\n",
       "    </tr>\n",
       "    <tr>\n",
       "      <th>mean</th>\n",
       "      <td>1</td>\n",
       "      <td>1</td>\n",
       "      <td>3</td>\n",
       "    </tr>\n",
       "    <tr>\n",
       "      <th>std</th>\n",
       "      <td>0</td>\n",
       "      <td>0</td>\n",
       "      <td>0</td>\n",
       "    </tr>\n",
       "    <tr>\n",
       "      <th>min</th>\n",
       "      <td>1</td>\n",
       "      <td>1</td>\n",
       "      <td>3</td>\n",
       "    </tr>\n",
       "    <tr>\n",
       "      <th>25%</th>\n",
       "      <td>1</td>\n",
       "      <td>1</td>\n",
       "      <td>3</td>\n",
       "    </tr>\n",
       "    <tr>\n",
       "      <th>50%</th>\n",
       "      <td>1</td>\n",
       "      <td>1</td>\n",
       "      <td>3</td>\n",
       "    </tr>\n",
       "    <tr>\n",
       "      <th>75%</th>\n",
       "      <td>1</td>\n",
       "      <td>1</td>\n",
       "      <td>3</td>\n",
       "    </tr>\n",
       "    <tr>\n",
       "      <th>max</th>\n",
       "      <td>1</td>\n",
       "      <td>1</td>\n",
       "      <td>3</td>\n",
       "    </tr>\n",
       "  </tbody>\n",
       "</table>\n",
       "</div>"
      ],
      "text/plain": [
       "       A  C  D\n",
       "count  4  4  4\n",
       "mean   1  1  3\n",
       "std    0  0  0\n",
       "min    1  1  3\n",
       "25%    1  1  3\n",
       "50%    1  1  3\n",
       "75%    1  1  3\n",
       "max    1  1  3"
      ]
     },
     "execution_count": 47,
     "metadata": {},
     "output_type": "execute_result"
    }
   ],
   "source": [
    "df2.describe()"
   ]
  },
  {
   "cell_type": "code",
   "execution_count": 48,
   "metadata": {
    "collapsed": false
   },
   "outputs": [
    {
     "data": {
      "text/html": [
       "<div>\n",
       "<table border=\"1\" class=\"dataframe\">\n",
       "  <thead>\n",
       "    <tr style=\"text-align: right;\">\n",
       "      <th></th>\n",
       "      <th>2015-09-15 00:00:00</th>\n",
       "      <th>2015-09-16 00:00:00</th>\n",
       "      <th>2015-09-17 00:00:00</th>\n",
       "      <th>2015-09-18 00:00:00</th>\n",
       "      <th>2015-09-19 00:00:00</th>\n",
       "      <th>2015-09-20 00:00:00</th>\n",
       "    </tr>\n",
       "  </thead>\n",
       "  <tbody>\n",
       "    <tr>\n",
       "      <th>A</th>\n",
       "      <td>-0.810983</td>\n",
       "      <td>0.242636</td>\n",
       "      <td>1.545043</td>\n",
       "      <td>0.242964</td>\n",
       "      <td>0.227452</td>\n",
       "      <td>-0.411804</td>\n",
       "    </tr>\n",
       "    <tr>\n",
       "      <th>B</th>\n",
       "      <td>0.551647</td>\n",
       "      <td>-0.052258</td>\n",
       "      <td>-0.334921</td>\n",
       "      <td>-0.341144</td>\n",
       "      <td>-1.589743</td>\n",
       "      <td>0.688935</td>\n",
       "    </tr>\n",
       "    <tr>\n",
       "      <th>C</th>\n",
       "      <td>-0.257801</td>\n",
       "      <td>-0.166830</td>\n",
       "      <td>-0.117245</td>\n",
       "      <td>-0.806991</td>\n",
       "      <td>-0.386720</td>\n",
       "      <td>0.555261</td>\n",
       "    </tr>\n",
       "    <tr>\n",
       "      <th>D</th>\n",
       "      <td>-0.261778</td>\n",
       "      <td>-2.641640</td>\n",
       "      <td>1.402816</td>\n",
       "      <td>-1.919158</td>\n",
       "      <td>0.173645</td>\n",
       "      <td>-0.889051</td>\n",
       "    </tr>\n",
       "  </tbody>\n",
       "</table>\n",
       "</div>"
      ],
      "text/plain": [
       "   2015-09-15  2015-09-16  2015-09-17  2015-09-18  2015-09-19  2015-09-20\n",
       "A   -0.810983    0.242636    1.545043    0.242964    0.227452   -0.411804\n",
       "B    0.551647   -0.052258   -0.334921   -0.341144   -1.589743    0.688935\n",
       "C   -0.257801   -0.166830   -0.117245   -0.806991   -0.386720    0.555261\n",
       "D   -0.261778   -2.641640    1.402816   -1.919158    0.173645   -0.889051"
      ]
     },
     "execution_count": 48,
     "metadata": {},
     "output_type": "execute_result"
    }
   ],
   "source": [
    "df.T"
   ]
  },
  {
   "cell_type": "code",
   "execution_count": 49,
   "metadata": {
    "collapsed": false
   },
   "outputs": [
    {
     "data": {
      "text/html": [
       "<div>\n",
       "<table border=\"1\" class=\"dataframe\">\n",
       "  <thead>\n",
       "    <tr style=\"text-align: right;\">\n",
       "      <th></th>\n",
       "      <th>0</th>\n",
       "      <th>1</th>\n",
       "      <th>2</th>\n",
       "      <th>3</th>\n",
       "    </tr>\n",
       "  </thead>\n",
       "  <tbody>\n",
       "    <tr>\n",
       "      <th>A</th>\n",
       "      <td>1</td>\n",
       "      <td>1</td>\n",
       "      <td>1</td>\n",
       "      <td>1</td>\n",
       "    </tr>\n",
       "    <tr>\n",
       "      <th>B</th>\n",
       "      <td>2015-09-15 00:00:00</td>\n",
       "      <td>2015-09-15 00:00:00</td>\n",
       "      <td>2015-09-15 00:00:00</td>\n",
       "      <td>2015-09-15 00:00:00</td>\n",
       "    </tr>\n",
       "    <tr>\n",
       "      <th>C</th>\n",
       "      <td>1</td>\n",
       "      <td>1</td>\n",
       "      <td>1</td>\n",
       "      <td>1</td>\n",
       "    </tr>\n",
       "    <tr>\n",
       "      <th>D</th>\n",
       "      <td>3</td>\n",
       "      <td>3</td>\n",
       "      <td>3</td>\n",
       "      <td>3</td>\n",
       "    </tr>\n",
       "    <tr>\n",
       "      <th>E</th>\n",
       "      <td>test</td>\n",
       "      <td>train</td>\n",
       "      <td>test</td>\n",
       "      <td>train</td>\n",
       "    </tr>\n",
       "    <tr>\n",
       "      <th>F</th>\n",
       "      <td>foo</td>\n",
       "      <td>foo</td>\n",
       "      <td>foo</td>\n",
       "      <td>foo</td>\n",
       "    </tr>\n",
       "  </tbody>\n",
       "</table>\n",
       "</div>"
      ],
      "text/plain": [
       "                     0                    1                    2  \\\n",
       "A                    1                    1                    1   \n",
       "B  2015-09-15 00:00:00  2015-09-15 00:00:00  2015-09-15 00:00:00   \n",
       "C                    1                    1                    1   \n",
       "D                    3                    3                    3   \n",
       "E                 test                train                 test   \n",
       "F                  foo                  foo                  foo   \n",
       "\n",
       "                     3  \n",
       "A                    1  \n",
       "B  2015-09-15 00:00:00  \n",
       "C                    1  \n",
       "D                    3  \n",
       "E                train  \n",
       "F                  foo  "
      ]
     },
     "execution_count": 49,
     "metadata": {},
     "output_type": "execute_result"
    }
   ],
   "source": [
    "df2.T"
   ]
  },
  {
   "cell_type": "code",
   "execution_count": 50,
   "metadata": {
    "collapsed": false
   },
   "outputs": [
    {
     "data": {
      "text/html": [
       "<div>\n",
       "<table border=\"1\" class=\"dataframe\">\n",
       "  <thead>\n",
       "    <tr style=\"text-align: right;\">\n",
       "      <th></th>\n",
       "      <th>A</th>\n",
       "      <th>B</th>\n",
       "      <th>C</th>\n",
       "      <th>D</th>\n",
       "    </tr>\n",
       "  </thead>\n",
       "  <tbody>\n",
       "    <tr>\n",
       "      <th>2015-09-15</th>\n",
       "      <td>-0.238749</td>\n",
       "      <td>-1.008645</td>\n",
       "      <td>0.579109</td>\n",
       "      <td>-0.521283</td>\n",
       "    </tr>\n",
       "    <tr>\n",
       "      <th>2015-09-16</th>\n",
       "      <td>-0.368630</td>\n",
       "      <td>-1.533395</td>\n",
       "      <td>0.561487</td>\n",
       "      <td>0.561583</td>\n",
       "    </tr>\n",
       "    <tr>\n",
       "      <th>2015-09-17</th>\n",
       "      <td>1.500117</td>\n",
       "      <td>0.194862</td>\n",
       "      <td>1.352029</td>\n",
       "      <td>-1.874726</td>\n",
       "    </tr>\n",
       "    <tr>\n",
       "      <th>2015-09-18</th>\n",
       "      <td>0.704586</td>\n",
       "      <td>-0.041722</td>\n",
       "      <td>-0.165049</td>\n",
       "      <td>0.778346</td>\n",
       "    </tr>\n",
       "    <tr>\n",
       "      <th>2015-09-19</th>\n",
       "      <td>-1.207108</td>\n",
       "      <td>1.758212</td>\n",
       "      <td>0.449625</td>\n",
       "      <td>-0.838208</td>\n",
       "    </tr>\n",
       "    <tr>\n",
       "      <th>2015-09-20</th>\n",
       "      <td>-0.510448</td>\n",
       "      <td>0.903072</td>\n",
       "      <td>-1.299286</td>\n",
       "      <td>0.240571</td>\n",
       "    </tr>\n",
       "  </tbody>\n",
       "</table>\n",
       "</div>"
      ],
      "text/plain": [
       "                   A         B         C         D\n",
       "2015-09-15 -0.238749 -1.008645  0.579109 -0.521283\n",
       "2015-09-16 -0.368630 -1.533395  0.561487  0.561583\n",
       "2015-09-17  1.500117  0.194862  1.352029 -1.874726\n",
       "2015-09-18  0.704586 -0.041722 -0.165049  0.778346\n",
       "2015-09-19 -1.207108  1.758212  0.449625 -0.838208\n",
       "2015-09-20 -0.510448  0.903072 -1.299286  0.240571"
      ]
     },
     "execution_count": 50,
     "metadata": {},
     "output_type": "execute_result"
    }
   ],
   "source": [
    "df1.T"
   ]
  },
  {
   "cell_type": "code",
   "execution_count": 51,
   "metadata": {
    "collapsed": false
   },
   "outputs": [
    {
     "data": {
      "text/html": [
       "<div>\n",
       "<table border=\"1\" class=\"dataframe\">\n",
       "  <thead>\n",
       "    <tr style=\"text-align: right;\">\n",
       "      <th></th>\n",
       "      <th>2015-09-15 00:00:00</th>\n",
       "      <th>2015-09-16 00:00:00</th>\n",
       "      <th>2015-09-17 00:00:00</th>\n",
       "      <th>2015-09-18 00:00:00</th>\n",
       "      <th>2015-09-19 00:00:00</th>\n",
       "      <th>2015-09-20 00:00:00</th>\n",
       "    </tr>\n",
       "  </thead>\n",
       "  <tbody>\n",
       "    <tr>\n",
       "      <th>A</th>\n",
       "      <td>-0.238749</td>\n",
       "      <td>-0.368630</td>\n",
       "      <td>1.500117</td>\n",
       "      <td>0.704586</td>\n",
       "      <td>-1.207108</td>\n",
       "      <td>-0.510448</td>\n",
       "    </tr>\n",
       "    <tr>\n",
       "      <th>B</th>\n",
       "      <td>-1.008645</td>\n",
       "      <td>-1.533395</td>\n",
       "      <td>0.194862</td>\n",
       "      <td>-0.041722</td>\n",
       "      <td>1.758212</td>\n",
       "      <td>0.903072</td>\n",
       "    </tr>\n",
       "    <tr>\n",
       "      <th>C</th>\n",
       "      <td>0.579109</td>\n",
       "      <td>0.561487</td>\n",
       "      <td>1.352029</td>\n",
       "      <td>-0.165049</td>\n",
       "      <td>0.449625</td>\n",
       "      <td>-1.299286</td>\n",
       "    </tr>\n",
       "    <tr>\n",
       "      <th>D</th>\n",
       "      <td>-0.521283</td>\n",
       "      <td>0.561583</td>\n",
       "      <td>-1.874726</td>\n",
       "      <td>0.778346</td>\n",
       "      <td>-0.838208</td>\n",
       "      <td>0.240571</td>\n",
       "    </tr>\n",
       "  </tbody>\n",
       "</table>\n",
       "</div>"
      ],
      "text/plain": [
       "   2015-09-15  2015-09-16  2015-09-17  2015-09-18  2015-09-19  2015-09-20\n",
       "A   -0.238749   -0.368630    1.500117    0.704586   -1.207108   -0.510448\n",
       "B   -1.008645   -1.533395    0.194862   -0.041722    1.758212    0.903072\n",
       "C    0.579109    0.561487    1.352029   -0.165049    0.449625   -1.299286\n",
       "D   -0.521283    0.561583   -1.874726    0.778346   -0.838208    0.240571"
      ]
     },
     "execution_count": 51,
     "metadata": {},
     "output_type": "execute_result"
    }
   ],
   "source": [
    "df1"
   ]
  },
  {
   "cell_type": "code",
   "execution_count": 52,
   "metadata": {
    "collapsed": false
   },
   "outputs": [
    {
     "data": {
      "text/html": [
       "<div>\n",
       "<table border=\"1\" class=\"dataframe\">\n",
       "  <thead>\n",
       "    <tr style=\"text-align: right;\">\n",
       "      <th></th>\n",
       "      <th>D</th>\n",
       "      <th>C</th>\n",
       "      <th>B</th>\n",
       "      <th>A</th>\n",
       "    </tr>\n",
       "  </thead>\n",
       "  <tbody>\n",
       "    <tr>\n",
       "      <th>2015-09-15</th>\n",
       "      <td>-0.261778</td>\n",
       "      <td>-0.257801</td>\n",
       "      <td>0.551647</td>\n",
       "      <td>-0.810983</td>\n",
       "    </tr>\n",
       "    <tr>\n",
       "      <th>2015-09-16</th>\n",
       "      <td>-2.641640</td>\n",
       "      <td>-0.166830</td>\n",
       "      <td>-0.052258</td>\n",
       "      <td>0.242636</td>\n",
       "    </tr>\n",
       "    <tr>\n",
       "      <th>2015-09-17</th>\n",
       "      <td>1.402816</td>\n",
       "      <td>-0.117245</td>\n",
       "      <td>-0.334921</td>\n",
       "      <td>1.545043</td>\n",
       "    </tr>\n",
       "    <tr>\n",
       "      <th>2015-09-18</th>\n",
       "      <td>-1.919158</td>\n",
       "      <td>-0.806991</td>\n",
       "      <td>-0.341144</td>\n",
       "      <td>0.242964</td>\n",
       "    </tr>\n",
       "    <tr>\n",
       "      <th>2015-09-19</th>\n",
       "      <td>0.173645</td>\n",
       "      <td>-0.386720</td>\n",
       "      <td>-1.589743</td>\n",
       "      <td>0.227452</td>\n",
       "    </tr>\n",
       "    <tr>\n",
       "      <th>2015-09-20</th>\n",
       "      <td>-0.889051</td>\n",
       "      <td>0.555261</td>\n",
       "      <td>0.688935</td>\n",
       "      <td>-0.411804</td>\n",
       "    </tr>\n",
       "  </tbody>\n",
       "</table>\n",
       "</div>"
      ],
      "text/plain": [
       "                   D         C         B         A\n",
       "2015-09-15 -0.261778 -0.257801  0.551647 -0.810983\n",
       "2015-09-16 -2.641640 -0.166830 -0.052258  0.242636\n",
       "2015-09-17  1.402816 -0.117245 -0.334921  1.545043\n",
       "2015-09-18 -1.919158 -0.806991 -0.341144  0.242964\n",
       "2015-09-19  0.173645 -0.386720 -1.589743  0.227452\n",
       "2015-09-20 -0.889051  0.555261  0.688935 -0.411804"
      ]
     },
     "execution_count": 52,
     "metadata": {},
     "output_type": "execute_result"
    }
   ],
   "source": [
    "df.sort_index(axis=1, ascending=False)"
   ]
  },
  {
   "cell_type": "code",
   "execution_count": 53,
   "metadata": {
    "collapsed": false
   },
   "outputs": [
    {
     "data": {
      "text/html": [
       "<div>\n",
       "<table border=\"1\" class=\"dataframe\">\n",
       "  <thead>\n",
       "    <tr style=\"text-align: right;\">\n",
       "      <th></th>\n",
       "      <th>A</th>\n",
       "      <th>B</th>\n",
       "      <th>C</th>\n",
       "      <th>D</th>\n",
       "    </tr>\n",
       "  </thead>\n",
       "  <tbody>\n",
       "    <tr>\n",
       "      <th>2015-09-15</th>\n",
       "      <td>-0.810983</td>\n",
       "      <td>0.551647</td>\n",
       "      <td>-0.257801</td>\n",
       "      <td>-0.261778</td>\n",
       "    </tr>\n",
       "    <tr>\n",
       "      <th>2015-09-16</th>\n",
       "      <td>0.242636</td>\n",
       "      <td>-0.052258</td>\n",
       "      <td>-0.166830</td>\n",
       "      <td>-2.641640</td>\n",
       "    </tr>\n",
       "    <tr>\n",
       "      <th>2015-09-17</th>\n",
       "      <td>1.545043</td>\n",
       "      <td>-0.334921</td>\n",
       "      <td>-0.117245</td>\n",
       "      <td>1.402816</td>\n",
       "    </tr>\n",
       "    <tr>\n",
       "      <th>2015-09-18</th>\n",
       "      <td>0.242964</td>\n",
       "      <td>-0.341144</td>\n",
       "      <td>-0.806991</td>\n",
       "      <td>-1.919158</td>\n",
       "    </tr>\n",
       "    <tr>\n",
       "      <th>2015-09-19</th>\n",
       "      <td>0.227452</td>\n",
       "      <td>-1.589743</td>\n",
       "      <td>-0.386720</td>\n",
       "      <td>0.173645</td>\n",
       "    </tr>\n",
       "    <tr>\n",
       "      <th>2015-09-20</th>\n",
       "      <td>-0.411804</td>\n",
       "      <td>0.688935</td>\n",
       "      <td>0.555261</td>\n",
       "      <td>-0.889051</td>\n",
       "    </tr>\n",
       "  </tbody>\n",
       "</table>\n",
       "</div>"
      ],
      "text/plain": [
       "                   A         B         C         D\n",
       "2015-09-15 -0.810983  0.551647 -0.257801 -0.261778\n",
       "2015-09-16  0.242636 -0.052258 -0.166830 -2.641640\n",
       "2015-09-17  1.545043 -0.334921 -0.117245  1.402816\n",
       "2015-09-18  0.242964 -0.341144 -0.806991 -1.919158\n",
       "2015-09-19  0.227452 -1.589743 -0.386720  0.173645\n",
       "2015-09-20 -0.411804  0.688935  0.555261 -0.889051"
      ]
     },
     "execution_count": 53,
     "metadata": {},
     "output_type": "execute_result"
    }
   ],
   "source": [
    "df.sort_index(axis=1, ascending=True)"
   ]
  },
  {
   "cell_type": "code",
   "execution_count": 56,
   "metadata": {
    "collapsed": false
   },
   "outputs": [
    {
     "data": {
      "text/html": [
       "<div>\n",
       "<table border=\"1\" class=\"dataframe\">\n",
       "  <thead>\n",
       "    <tr style=\"text-align: right;\">\n",
       "      <th></th>\n",
       "      <th>A</th>\n",
       "      <th>B</th>\n",
       "      <th>C</th>\n",
       "      <th>D</th>\n",
       "    </tr>\n",
       "  </thead>\n",
       "  <tbody>\n",
       "    <tr>\n",
       "      <th>2015-09-20</th>\n",
       "      <td>-0.411804</td>\n",
       "      <td>0.688935</td>\n",
       "      <td>0.555261</td>\n",
       "      <td>-0.889051</td>\n",
       "    </tr>\n",
       "    <tr>\n",
       "      <th>2015-09-19</th>\n",
       "      <td>0.227452</td>\n",
       "      <td>-1.589743</td>\n",
       "      <td>-0.386720</td>\n",
       "      <td>0.173645</td>\n",
       "    </tr>\n",
       "    <tr>\n",
       "      <th>2015-09-18</th>\n",
       "      <td>0.242964</td>\n",
       "      <td>-0.341144</td>\n",
       "      <td>-0.806991</td>\n",
       "      <td>-1.919158</td>\n",
       "    </tr>\n",
       "    <tr>\n",
       "      <th>2015-09-17</th>\n",
       "      <td>1.545043</td>\n",
       "      <td>-0.334921</td>\n",
       "      <td>-0.117245</td>\n",
       "      <td>1.402816</td>\n",
       "    </tr>\n",
       "    <tr>\n",
       "      <th>2015-09-16</th>\n",
       "      <td>0.242636</td>\n",
       "      <td>-0.052258</td>\n",
       "      <td>-0.166830</td>\n",
       "      <td>-2.641640</td>\n",
       "    </tr>\n",
       "    <tr>\n",
       "      <th>2015-09-15</th>\n",
       "      <td>-0.810983</td>\n",
       "      <td>0.551647</td>\n",
       "      <td>-0.257801</td>\n",
       "      <td>-0.261778</td>\n",
       "    </tr>\n",
       "  </tbody>\n",
       "</table>\n",
       "</div>"
      ],
      "text/plain": [
       "                   A         B         C         D\n",
       "2015-09-20 -0.411804  0.688935  0.555261 -0.889051\n",
       "2015-09-19  0.227452 -1.589743 -0.386720  0.173645\n",
       "2015-09-18  0.242964 -0.341144 -0.806991 -1.919158\n",
       "2015-09-17  1.545043 -0.334921 -0.117245  1.402816\n",
       "2015-09-16  0.242636 -0.052258 -0.166830 -2.641640\n",
       "2015-09-15 -0.810983  0.551647 -0.257801 -0.261778"
      ]
     },
     "execution_count": 56,
     "metadata": {},
     "output_type": "execute_result"
    }
   ],
   "source": [
    "df.sort_index(axis=0, ascending=False)"
   ]
  },
  {
   "cell_type": "code",
   "execution_count": 57,
   "metadata": {
    "collapsed": false
   },
   "outputs": [
    {
     "data": {
      "text/html": [
       "<div>\n",
       "<table border=\"1\" class=\"dataframe\">\n",
       "  <thead>\n",
       "    <tr style=\"text-align: right;\">\n",
       "      <th></th>\n",
       "      <th>A</th>\n",
       "      <th>B</th>\n",
       "      <th>C</th>\n",
       "      <th>D</th>\n",
       "    </tr>\n",
       "  </thead>\n",
       "  <tbody>\n",
       "    <tr>\n",
       "      <th>2015-09-15</th>\n",
       "      <td>-0.810983</td>\n",
       "      <td>0.551647</td>\n",
       "      <td>-0.257801</td>\n",
       "      <td>-0.261778</td>\n",
       "    </tr>\n",
       "    <tr>\n",
       "      <th>2015-09-16</th>\n",
       "      <td>0.242636</td>\n",
       "      <td>-0.052258</td>\n",
       "      <td>-0.166830</td>\n",
       "      <td>-2.641640</td>\n",
       "    </tr>\n",
       "    <tr>\n",
       "      <th>2015-09-17</th>\n",
       "      <td>1.545043</td>\n",
       "      <td>-0.334921</td>\n",
       "      <td>-0.117245</td>\n",
       "      <td>1.402816</td>\n",
       "    </tr>\n",
       "    <tr>\n",
       "      <th>2015-09-18</th>\n",
       "      <td>0.242964</td>\n",
       "      <td>-0.341144</td>\n",
       "      <td>-0.806991</td>\n",
       "      <td>-1.919158</td>\n",
       "    </tr>\n",
       "    <tr>\n",
       "      <th>2015-09-19</th>\n",
       "      <td>0.227452</td>\n",
       "      <td>-1.589743</td>\n",
       "      <td>-0.386720</td>\n",
       "      <td>0.173645</td>\n",
       "    </tr>\n",
       "    <tr>\n",
       "      <th>2015-09-20</th>\n",
       "      <td>-0.411804</td>\n",
       "      <td>0.688935</td>\n",
       "      <td>0.555261</td>\n",
       "      <td>-0.889051</td>\n",
       "    </tr>\n",
       "  </tbody>\n",
       "</table>\n",
       "</div>"
      ],
      "text/plain": [
       "                   A         B         C         D\n",
       "2015-09-15 -0.810983  0.551647 -0.257801 -0.261778\n",
       "2015-09-16  0.242636 -0.052258 -0.166830 -2.641640\n",
       "2015-09-17  1.545043 -0.334921 -0.117245  1.402816\n",
       "2015-09-18  0.242964 -0.341144 -0.806991 -1.919158\n",
       "2015-09-19  0.227452 -1.589743 -0.386720  0.173645\n",
       "2015-09-20 -0.411804  0.688935  0.555261 -0.889051"
      ]
     },
     "execution_count": 57,
     "metadata": {},
     "output_type": "execute_result"
    }
   ],
   "source": [
    "df.sort_index(axis=0, ascending=True)"
   ]
  },
  {
   "cell_type": "code",
   "execution_count": 58,
   "metadata": {
    "collapsed": false
   },
   "outputs": [
    {
     "data": {
      "text/html": [
       "<div>\n",
       "<table border=\"1\" class=\"dataframe\">\n",
       "  <thead>\n",
       "    <tr style=\"text-align: right;\">\n",
       "      <th></th>\n",
       "      <th>A</th>\n",
       "      <th>B</th>\n",
       "      <th>C</th>\n",
       "      <th>D</th>\n",
       "    </tr>\n",
       "  </thead>\n",
       "  <tbody>\n",
       "    <tr>\n",
       "      <th>2015-09-19</th>\n",
       "      <td>0.227452</td>\n",
       "      <td>-1.589743</td>\n",
       "      <td>-0.386720</td>\n",
       "      <td>0.173645</td>\n",
       "    </tr>\n",
       "    <tr>\n",
       "      <th>2015-09-18</th>\n",
       "      <td>0.242964</td>\n",
       "      <td>-0.341144</td>\n",
       "      <td>-0.806991</td>\n",
       "      <td>-1.919158</td>\n",
       "    </tr>\n",
       "    <tr>\n",
       "      <th>2015-09-17</th>\n",
       "      <td>1.545043</td>\n",
       "      <td>-0.334921</td>\n",
       "      <td>-0.117245</td>\n",
       "      <td>1.402816</td>\n",
       "    </tr>\n",
       "    <tr>\n",
       "      <th>2015-09-16</th>\n",
       "      <td>0.242636</td>\n",
       "      <td>-0.052258</td>\n",
       "      <td>-0.166830</td>\n",
       "      <td>-2.641640</td>\n",
       "    </tr>\n",
       "    <tr>\n",
       "      <th>2015-09-15</th>\n",
       "      <td>-0.810983</td>\n",
       "      <td>0.551647</td>\n",
       "      <td>-0.257801</td>\n",
       "      <td>-0.261778</td>\n",
       "    </tr>\n",
       "    <tr>\n",
       "      <th>2015-09-20</th>\n",
       "      <td>-0.411804</td>\n",
       "      <td>0.688935</td>\n",
       "      <td>0.555261</td>\n",
       "      <td>-0.889051</td>\n",
       "    </tr>\n",
       "  </tbody>\n",
       "</table>\n",
       "</div>"
      ],
      "text/plain": [
       "                   A         B         C         D\n",
       "2015-09-19  0.227452 -1.589743 -0.386720  0.173645\n",
       "2015-09-18  0.242964 -0.341144 -0.806991 -1.919158\n",
       "2015-09-17  1.545043 -0.334921 -0.117245  1.402816\n",
       "2015-09-16  0.242636 -0.052258 -0.166830 -2.641640\n",
       "2015-09-15 -0.810983  0.551647 -0.257801 -0.261778\n",
       "2015-09-20 -0.411804  0.688935  0.555261 -0.889051"
      ]
     },
     "execution_count": 58,
     "metadata": {},
     "output_type": "execute_result"
    }
   ],
   "source": [
    "df.sort(columns='B')"
   ]
  },
  {
   "cell_type": "code",
   "execution_count": null,
   "metadata": {
    "collapsed": true
   },
   "outputs": [],
   "source": []
  }
 ],
 "metadata": {
  "kernelspec": {
   "display_name": "Python 2",
   "language": "python",
   "name": "python2"
  },
  "language_info": {
   "codemirror_mode": {
    "name": "ipython",
    "version": 2
   },
   "file_extension": ".py",
   "mimetype": "text/x-python",
   "name": "python",
   "nbconvert_exporter": "python",
   "pygments_lexer": "ipython2",
   "version": "2.7.9"
  }
 },
 "nbformat": 4,
 "nbformat_minor": 0
}
